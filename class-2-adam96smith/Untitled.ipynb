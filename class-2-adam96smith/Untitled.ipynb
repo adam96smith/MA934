{
 "cells": [
  {
   "cell_type": "code",
   "execution_count": null,
   "metadata": {},
   "outputs": [],
   "source": [
    "function InsertionSort(a)\n",
    "    for i = 1:length(a)-1\n",
    "        while a[i] > a[i+1]\n",
    "            a[i],a[i+1] = a[i+1],a[i]\n",
    "            return InsertionSort(a)\n",
    "        end\n",
    "    end\n",
    "    return a\n",
    "end"
   ]
  },
  {
   "cell_type": "code",
   "execution_count": 281,
   "metadata": {},
   "outputs": [
    {
     "data": {
      "text/plain": [
       "mergepresorted (generic function with 1 method)"
      ]
     },
     "execution_count": 281,
     "metadata": {},
     "output_type": "execute_result"
    }
   ],
   "source": [
    "function ITmergepresorted(A::Array{Int64,1}, B::Array{Int64,1})\n",
    "    if length(A) == 0\n",
    "        return B\n",
    "    elseif length(B) == 0\n",
    "        return A\n",
    "    else\n",
    "        for i = 1:length(A)\n",
    "            for j = 1:length(B)\n",
    "                \n",
    "                \n",
    "            end\n",
    "        end\n",
    "    \n",
    "        \n",
    "#        return vcat([A[1]], mergepresorted(A[2:end], B))\n",
    "#    else\n",
    "#        return vcat([B[1]], mergepresorted(A, B[2:end]))\n",
    "    end    \n",
    "end"
   ]
  },
  {
   "cell_type": "code",
   "execution_count": 330,
   "metadata": {},
   "outputs": [
    {
     "data": {
      "text/plain": [
       "mergesort (generic function with 1 method)"
      ]
     },
     "execution_count": 330,
     "metadata": {},
     "output_type": "execute_result"
    }
   ],
   "source": [
    "function mergesort(a)\n",
    "    n = length(a)\n",
    "    if n == 1\n",
    "        return a\n",
    "    else\n",
    "        m = Int(n/2)\n",
    "        return ITmergepresorted(mergesort(a[1:m]),mergesort(a[m+1:n]))\n",
    "    end\n",
    "end"
   ]
  },
  {
   "cell_type": "code",
   "execution_count": 5,
   "metadata": {},
   "outputs": [
    {
     "data": {
      "text/plain": [
       "Iter_Sort (generic function with 1 method)"
      ]
     },
     "execution_count": 5,
     "metadata": {},
     "output_type": "execute_result"
    }
   ],
   "source": [
    "function Iter_Sort(a)\n",
    "    for i = 2:length(a)\n",
    "        tmp = a[i]\n",
    "        j = i-1\n",
    "            while j != 0\n",
    "                if a[j] > tmp\n",
    "                    a[j+1],a[j] = a[j],tmp\n",
    "                    j = j - 1\n",
    "                else\n",
    "                    j = 0\n",
    "                end\n",
    "            end\n",
    "        \n",
    "    end\n",
    "    return a\n",
    "end"
   ]
  },
  {
   "cell_type": "code",
   "execution_count": null,
   "metadata": {},
   "outputs": [],
   "source": []
  },
  {
   "cell_type": "code",
   "execution_count": 7,
   "metadata": {},
   "outputs": [
    {
     "data": {
      "text/plain": [
       "20-element Array{Int64,1}:\n",
       "  14\n",
       "  15\n",
       "  24\n",
       "  29\n",
       "  30\n",
       "  59\n",
       "  60\n",
       "  62\n",
       "  65\n",
       "  95\n",
       " 116\n",
       " 118\n",
       " 128\n",
       " 136\n",
       " 157\n",
       " 163\n",
       " 165\n",
       " 170\n",
       " 172\n",
       " 196"
      ]
     },
     "execution_count": 7,
     "metadata": {},
     "output_type": "execute_result"
    }
   ],
   "source": [
    "a = rand(1:200,20)\n",
    "Iter_Sort(a)"
   ]
  }
 ],
 "metadata": {
  "kernelspec": {
   "display_name": "Julia 1.0.4",
   "language": "julia",
   "name": "julia-1.0"
  },
  "language_info": {
   "file_extension": ".jl",
   "mimetype": "application/julia",
   "name": "julia",
   "version": "1.0.4"
  }
 },
 "nbformat": 4,
 "nbformat_minor": 2
}
